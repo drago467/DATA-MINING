{
  "nbformat": 4,
  "nbformat_minor": 0,
  "metadata": {
    "colab": {
      "provenance": [],
      "include_colab_link": true
    },
    "kernelspec": {
      "name": "python3",
      "display_name": "Python 3"
    },
    "language_info": {
      "name": "python"
    }
  },
  "cells": [
    {
      "cell_type": "markdown",
      "metadata": {
        "id": "view-in-github",
        "colab_type": "text"
      },
      "source": [
        "<a href=\"https://colab.research.google.com/github/drago467/DATA-MINING/blob/main/Ph%C3%A2n%20t%C3%ADch%20theo%20ng%C3%A0y%20mean%20median%20CD.ipynb\" target=\"_parent\"><img src=\"https://colab.research.google.com/assets/colab-badge.svg\" alt=\"Open In Colab\"/></a>"
      ]
    },
    {
      "cell_type": "code",
      "execution_count": null,
      "metadata": {
        "colab": {
          "base_uri": "https://localhost:8080/",
          "height": 542
        },
        "id": "UqQtuG-VGF53",
        "outputId": "86fd6205-0ec6-4848-b02e-372afa8425ad"
      },
      "outputs": [
        {
          "output_type": "display_data",
          "data": {
            "text/html": [
              "<html>\n",
              "<head><meta charset=\"utf-8\" /></head>\n",
              "<body>\n",
              "    <div>            <script src=\"https://cdnjs.cloudflare.com/ajax/libs/mathjax/2.7.5/MathJax.js?config=TeX-AMS-MML_SVG\"></script><script type=\"text/javascript\">if (window.MathJax && window.MathJax.Hub && window.MathJax.Hub.Config) {window.MathJax.Hub.Config({SVG: {font: \"STIX-Web\"}});}</script>                <script type=\"text/javascript\">window.PlotlyConfig = {MathJaxConfig: 'local'};</script>\n",
              "        <script charset=\"utf-8\" src=\"https://cdn.plot.ly/plotly-2.35.2.min.js\"></script>                <div id=\"22e73497-c070-477d-bf7a-548055b8aa1d\" class=\"plotly-graph-div\" style=\"height:525px; width:100%;\"></div>            <script type=\"text/javascript\">                                    window.PLOTLYENV=window.PLOTLYENV || {};                                    if (document.getElementById(\"22e73497-c070-477d-bf7a-548055b8aa1d\")) {                    Plotly.newPlot(                        \"22e73497-c070-477d-bf7a-548055b8aa1d\",                        [{\"customdata\":[38348.8995309917,198941.80472355898,119120.53301941093,741505.2402163332,168197.52951976215,157735.06130657904,496657.99079375964,12535103.052862072,8056656.266649215,3772239.2642648397,2826794.693556381,2007873.7060619378,5044580.899733634,1910084.0369417763,5181676.8076628065,43327542.356921166,34473542.91516235,207464024.52503425,6509418.029982382],\"hovertemplate\":\"Date: %{x}\\u003cbr\\u003eMean: %{y}\\u003cbr\\u003eStd Dev: %{customdata}\",\"mode\":\"lines+markers\",\"name\":\"Mean\",\"x\":[\"1900-09-01T00:00:00\",\"1900-09-02T00:00:00\",\"1900-09-03T00:00:00\",\"1900-09-04T00:00:00\",\"1900-09-05T00:00:00\",\"1900-09-06T00:00:00\",\"1900-09-07T00:00:00\",\"1900-09-08T00:00:00\",\"1900-09-09T00:00:00\",\"1900-09-10T00:00:00\",\"1900-09-11T00:00:00\",\"1900-09-12T00:00:00\",\"1900-09-13T00:00:00\",\"1900-09-14T00:00:00\",\"1900-09-15T00:00:00\",\"1900-09-16T00:00:00\",\"1900-09-17T00:00:00\",\"1900-09-18T00:00:00\",\"1900-09-19T00:00:00\"],\"y\":[19933.333333333332,95583.33333333333,77142.6,166886.02127659574,37911.08571428571,53164.90243902439,151371.42424242425,1710497.6538461538,1320326.503909131,829880.6273240763,548624.3195484641,507434.4564147435,468976.21229091444,435268.8885607179,492252.27668511565,1437471.219293527,1128994.3230885589,23277634.430107526,2135055.303030303],\"type\":\"scatter\"},{\"customdata\":[38348.8995309917,198941.80472355898,119120.53301941093,741505.2402163332,168197.52951976215,157735.06130657904,496657.99079375964,12535103.052862072,8056656.266649215,3772239.2642648397,2826794.693556381,2007873.7060619378,5044580.899733634,1910084.0369417763,5181676.8076628065,43327542.356921166,34473542.91516235,207464024.52503425,6509418.029982382],\"hovertemplate\":\"Date: %{x}\\u003cbr\\u003eMedian: %{y}\\u003cbr\\u003eStd Dev: %{customdata}\",\"mode\":\"lines+markers\",\"name\":\"Median\",\"x\":[\"1900-09-01T00:00:00\",\"1900-09-02T00:00:00\",\"1900-09-03T00:00:00\",\"1900-09-04T00:00:00\",\"1900-09-05T00:00:00\",\"1900-09-06T00:00:00\",\"1900-09-07T00:00:00\",\"1900-09-08T00:00:00\",\"1900-09-09T00:00:00\",\"1900-09-10T00:00:00\",\"1900-09-11T00:00:00\",\"1900-09-12T00:00:00\",\"1900-09-13T00:00:00\",\"1900-09-14T00:00:00\",\"1900-09-15T00:00:00\",\"1900-09-16T00:00:00\",\"1900-09-17T00:00:00\",\"1900-09-18T00:00:00\",\"1900-09-19T00:00:00\"],\"y\":[3000.0,10000.0,10636.0,6000.0,6000.0,10000.0,10000.0,100000.0,200000.0,200000.0,200000.0,200000.0,200000.0,200000.0,200000.0,200000.0,200000.0,300000.0,200000.0],\"type\":\"scatter\"},{\"hovertemplate\":\"Date: %{x}\\u003cbr\\u003eTransactions: %{y}\",\"mode\":\"lines+markers\",\"name\":\"Transaction Count\",\"x\":[\"1900-09-01T00:00:00\",\"1900-09-02T00:00:00\",\"1900-09-03T00:00:00\",\"1900-09-04T00:00:00\",\"1900-09-05T00:00:00\",\"1900-09-06T00:00:00\",\"1900-09-07T00:00:00\",\"1900-09-08T00:00:00\",\"1900-09-09T00:00:00\",\"1900-09-10T00:00:00\",\"1900-09-11T00:00:00\",\"1900-09-12T00:00:00\",\"1900-09-13T00:00:00\",\"1900-09-14T00:00:00\",\"1900-09-15T00:00:00\",\"1900-09-16T00:00:00\",\"1900-09-17T00:00:00\",\"1900-09-18T00:00:00\",\"1900-09-19T00:00:00\"],\"y\":[15,6,15,47,35,41,66,520,6779,8498,9213,9143,27142,26409,20236,16731,14544,93,66],\"yaxis\":\"y2\",\"type\":\"scatter\"},{\"fill\":\"toself\",\"fillcolor\":\"rgba(128, 128, 128, 0.2)\",\"hoverinfo\":\"skip\",\"line\":{\"color\":\"rgba(255,255,255,0)\"},\"showlegend\":false,\"x\":[\"1900-09-01T00:00:00\",\"1900-09-02T00:00:00\",\"1900-09-03T00:00:00\",\"1900-09-04T00:00:00\",\"1900-09-05T00:00:00\",\"1900-09-06T00:00:00\",\"1900-09-07T00:00:00\",\"1900-09-08T00:00:00\",\"1900-09-09T00:00:00\",\"1900-09-10T00:00:00\",\"1900-09-11T00:00:00\",\"1900-09-12T00:00:00\",\"1900-09-13T00:00:00\",\"1900-09-14T00:00:00\",\"1900-09-15T00:00:00\",\"1900-09-16T00:00:00\",\"1900-09-17T00:00:00\",\"1900-09-18T00:00:00\",\"1900-09-19T00:00:00\",\"1900-09-19T00:00:00\",\"1900-09-18T00:00:00\",\"1900-09-17T00:00:00\",\"1900-09-16T00:00:00\",\"1900-09-15T00:00:00\",\"1900-09-14T00:00:00\",\"1900-09-13T00:00:00\",\"1900-09-12T00:00:00\",\"1900-09-11T00:00:00\",\"1900-09-10T00:00:00\",\"1900-09-09T00:00:00\",\"1900-09-08T00:00:00\",\"1900-09-07T00:00:00\",\"1900-09-06T00:00:00\",\"1900-09-05T00:00:00\",\"1900-09-04T00:00:00\",\"1900-09-03T00:00:00\",\"1900-09-02T00:00:00\",\"1900-09-01T00:00:00\"],\"y\":[58282.23286432504,294525.1380568923,196263.13301941095,908391.261492929,206108.61523404787,210899.96374560343,648029.4150361839,14245600.706708226,9376982.770558346,4602119.891588916,3375419.013104845,2515308.162476681,5513557.112024548,2345352.925502494,5673929.084347922,44765013.57621469,35602537.238250904,230741658.95514178,8644473.333012685,-4374362.72695208,-184186390.0949267,-33344548.592073787,-41890071.13762764,-4689424.530977691,-1474815.1483810584,-4575604.687442719,-1500439.2496471943,-2278170.374007917,-2942358.6369407633,-6736329.762740083,-10824605.399015918,-345286.5665513354,-104570.15886755465,-130286.44380547643,-574619.2189397374,-41977.93301941092,-103358.47139022565,-18415.56619765837],\"type\":\"scatter\"}],                        {\"template\":{\"data\":{\"histogram2dcontour\":[{\"type\":\"histogram2dcontour\",\"colorbar\":{\"outlinewidth\":0,\"ticks\":\"\"},\"colorscale\":[[0.0,\"#0d0887\"],[0.1111111111111111,\"#46039f\"],[0.2222222222222222,\"#7201a8\"],[0.3333333333333333,\"#9c179e\"],[0.4444444444444444,\"#bd3786\"],[0.5555555555555556,\"#d8576b\"],[0.6666666666666666,\"#ed7953\"],[0.7777777777777778,\"#fb9f3a\"],[0.8888888888888888,\"#fdca26\"],[1.0,\"#f0f921\"]]}],\"choropleth\":[{\"type\":\"choropleth\",\"colorbar\":{\"outlinewidth\":0,\"ticks\":\"\"}}],\"histogram2d\":[{\"type\":\"histogram2d\",\"colorbar\":{\"outlinewidth\":0,\"ticks\":\"\"},\"colorscale\":[[0.0,\"#0d0887\"],[0.1111111111111111,\"#46039f\"],[0.2222222222222222,\"#7201a8\"],[0.3333333333333333,\"#9c179e\"],[0.4444444444444444,\"#bd3786\"],[0.5555555555555556,\"#d8576b\"],[0.6666666666666666,\"#ed7953\"],[0.7777777777777778,\"#fb9f3a\"],[0.8888888888888888,\"#fdca26\"],[1.0,\"#f0f921\"]]}],\"heatmap\":[{\"type\":\"heatmap\",\"colorbar\":{\"outlinewidth\":0,\"ticks\":\"\"},\"colorscale\":[[0.0,\"#0d0887\"],[0.1111111111111111,\"#46039f\"],[0.2222222222222222,\"#7201a8\"],[0.3333333333333333,\"#9c179e\"],[0.4444444444444444,\"#bd3786\"],[0.5555555555555556,\"#d8576b\"],[0.6666666666666666,\"#ed7953\"],[0.7777777777777778,\"#fb9f3a\"],[0.8888888888888888,\"#fdca26\"],[1.0,\"#f0f921\"]]}],\"heatmapgl\":[{\"type\":\"heatmapgl\",\"colorbar\":{\"outlinewidth\":0,\"ticks\":\"\"},\"colorscale\":[[0.0,\"#0d0887\"],[0.1111111111111111,\"#46039f\"],[0.2222222222222222,\"#7201a8\"],[0.3333333333333333,\"#9c179e\"],[0.4444444444444444,\"#bd3786\"],[0.5555555555555556,\"#d8576b\"],[0.6666666666666666,\"#ed7953\"],[0.7777777777777778,\"#fb9f3a\"],[0.8888888888888888,\"#fdca26\"],[1.0,\"#f0f921\"]]}],\"contourcarpet\":[{\"type\":\"contourcarpet\",\"colorbar\":{\"outlinewidth\":0,\"ticks\":\"\"}}],\"contour\":[{\"type\":\"contour\",\"colorbar\":{\"outlinewidth\":0,\"ticks\":\"\"},\"colorscale\":[[0.0,\"#0d0887\"],[0.1111111111111111,\"#46039f\"],[0.2222222222222222,\"#7201a8\"],[0.3333333333333333,\"#9c179e\"],[0.4444444444444444,\"#bd3786\"],[0.5555555555555556,\"#d8576b\"],[0.6666666666666666,\"#ed7953\"],[0.7777777777777778,\"#fb9f3a\"],[0.8888888888888888,\"#fdca26\"],[1.0,\"#f0f921\"]]}],\"surface\":[{\"type\":\"surface\",\"colorbar\":{\"outlinewidth\":0,\"ticks\":\"\"},\"colorscale\":[[0.0,\"#0d0887\"],[0.1111111111111111,\"#46039f\"],[0.2222222222222222,\"#7201a8\"],[0.3333333333333333,\"#9c179e\"],[0.4444444444444444,\"#bd3786\"],[0.5555555555555556,\"#d8576b\"],[0.6666666666666666,\"#ed7953\"],[0.7777777777777778,\"#fb9f3a\"],[0.8888888888888888,\"#fdca26\"],[1.0,\"#f0f921\"]]}],\"mesh3d\":[{\"type\":\"mesh3d\",\"colorbar\":{\"outlinewidth\":0,\"ticks\":\"\"}}],\"scatter\":[{\"fillpattern\":{\"fillmode\":\"overlay\",\"size\":10,\"solidity\":0.2},\"type\":\"scatter\"}],\"parcoords\":[{\"type\":\"parcoords\",\"line\":{\"colorbar\":{\"outlinewidth\":0,\"ticks\":\"\"}}}],\"scatterpolargl\":[{\"type\":\"scatterpolargl\",\"marker\":{\"colorbar\":{\"outlinewidth\":0,\"ticks\":\"\"}}}],\"bar\":[{\"error_x\":{\"color\":\"#2a3f5f\"},\"error_y\":{\"color\":\"#2a3f5f\"},\"marker\":{\"line\":{\"color\":\"#E5ECF6\",\"width\":0.5},\"pattern\":{\"fillmode\":\"overlay\",\"size\":10,\"solidity\":0.2}},\"type\":\"bar\"}],\"scattergeo\":[{\"type\":\"scattergeo\",\"marker\":{\"colorbar\":{\"outlinewidth\":0,\"ticks\":\"\"}}}],\"scatterpolar\":[{\"type\":\"scatterpolar\",\"marker\":{\"colorbar\":{\"outlinewidth\":0,\"ticks\":\"\"}}}],\"histogram\":[{\"marker\":{\"pattern\":{\"fillmode\":\"overlay\",\"size\":10,\"solidity\":0.2}},\"type\":\"histogram\"}],\"scattergl\":[{\"type\":\"scattergl\",\"marker\":{\"colorbar\":{\"outlinewidth\":0,\"ticks\":\"\"}}}],\"scatter3d\":[{\"type\":\"scatter3d\",\"line\":{\"colorbar\":{\"outlinewidth\":0,\"ticks\":\"\"}},\"marker\":{\"colorbar\":{\"outlinewidth\":0,\"ticks\":\"\"}}}],\"scattermapbox\":[{\"type\":\"scattermapbox\",\"marker\":{\"colorbar\":{\"outlinewidth\":0,\"ticks\":\"\"}}}],\"scatterternary\":[{\"type\":\"scatterternary\",\"marker\":{\"colorbar\":{\"outlinewidth\":0,\"ticks\":\"\"}}}],\"scattercarpet\":[{\"type\":\"scattercarpet\",\"marker\":{\"colorbar\":{\"outlinewidth\":0,\"ticks\":\"\"}}}],\"carpet\":[{\"aaxis\":{\"endlinecolor\":\"#2a3f5f\",\"gridcolor\":\"white\",\"linecolor\":\"white\",\"minorgridcolor\":\"white\",\"startlinecolor\":\"#2a3f5f\"},\"baxis\":{\"endlinecolor\":\"#2a3f5f\",\"gridcolor\":\"white\",\"linecolor\":\"white\",\"minorgridcolor\":\"white\",\"startlinecolor\":\"#2a3f5f\"},\"type\":\"carpet\"}],\"table\":[{\"cells\":{\"fill\":{\"color\":\"#EBF0F8\"},\"line\":{\"color\":\"white\"}},\"header\":{\"fill\":{\"color\":\"#C8D4E3\"},\"line\":{\"color\":\"white\"}},\"type\":\"table\"}],\"barpolar\":[{\"marker\":{\"line\":{\"color\":\"#E5ECF6\",\"width\":0.5},\"pattern\":{\"fillmode\":\"overlay\",\"size\":10,\"solidity\":0.2}},\"type\":\"barpolar\"}],\"pie\":[{\"automargin\":true,\"type\":\"pie\"}]},\"layout\":{\"autotypenumbers\":\"strict\",\"colorway\":[\"#636efa\",\"#EF553B\",\"#00cc96\",\"#ab63fa\",\"#FFA15A\",\"#19d3f3\",\"#FF6692\",\"#B6E880\",\"#FF97FF\",\"#FECB52\"],\"font\":{\"color\":\"#2a3f5f\"},\"hovermode\":\"closest\",\"hoverlabel\":{\"align\":\"left\"},\"paper_bgcolor\":\"white\",\"plot_bgcolor\":\"#E5ECF6\",\"polar\":{\"bgcolor\":\"#E5ECF6\",\"angularaxis\":{\"gridcolor\":\"white\",\"linecolor\":\"white\",\"ticks\":\"\"},\"radialaxis\":{\"gridcolor\":\"white\",\"linecolor\":\"white\",\"ticks\":\"\"}},\"ternary\":{\"bgcolor\":\"#E5ECF6\",\"aaxis\":{\"gridcolor\":\"white\",\"linecolor\":\"white\",\"ticks\":\"\"},\"baxis\":{\"gridcolor\":\"white\",\"linecolor\":\"white\",\"ticks\":\"\"},\"caxis\":{\"gridcolor\":\"white\",\"linecolor\":\"white\",\"ticks\":\"\"}},\"coloraxis\":{\"colorbar\":{\"outlinewidth\":0,\"ticks\":\"\"}},\"colorscale\":{\"sequential\":[[0.0,\"#0d0887\"],[0.1111111111111111,\"#46039f\"],[0.2222222222222222,\"#7201a8\"],[0.3333333333333333,\"#9c179e\"],[0.4444444444444444,\"#bd3786\"],[0.5555555555555556,\"#d8576b\"],[0.6666666666666666,\"#ed7953\"],[0.7777777777777778,\"#fb9f3a\"],[0.8888888888888888,\"#fdca26\"],[1.0,\"#f0f921\"]],\"sequentialminus\":[[0.0,\"#0d0887\"],[0.1111111111111111,\"#46039f\"],[0.2222222222222222,\"#7201a8\"],[0.3333333333333333,\"#9c179e\"],[0.4444444444444444,\"#bd3786\"],[0.5555555555555556,\"#d8576b\"],[0.6666666666666666,\"#ed7953\"],[0.7777777777777778,\"#fb9f3a\"],[0.8888888888888888,\"#fdca26\"],[1.0,\"#f0f921\"]],\"diverging\":[[0,\"#8e0152\"],[0.1,\"#c51b7d\"],[0.2,\"#de77ae\"],[0.3,\"#f1b6da\"],[0.4,\"#fde0ef\"],[0.5,\"#f7f7f7\"],[0.6,\"#e6f5d0\"],[0.7,\"#b8e186\"],[0.8,\"#7fbc41\"],[0.9,\"#4d9221\"],[1,\"#276419\"]]},\"xaxis\":{\"gridcolor\":\"white\",\"linecolor\":\"white\",\"ticks\":\"\",\"title\":{\"standoff\":15},\"zerolinecolor\":\"white\",\"automargin\":true,\"zerolinewidth\":2},\"yaxis\":{\"gridcolor\":\"white\",\"linecolor\":\"white\",\"ticks\":\"\",\"title\":{\"standoff\":15},\"zerolinecolor\":\"white\",\"automargin\":true,\"zerolinewidth\":2},\"scene\":{\"xaxis\":{\"backgroundcolor\":\"#E5ECF6\",\"gridcolor\":\"white\",\"linecolor\":\"white\",\"showbackground\":true,\"ticks\":\"\",\"zerolinecolor\":\"white\",\"gridwidth\":2},\"yaxis\":{\"backgroundcolor\":\"#E5ECF6\",\"gridcolor\":\"white\",\"linecolor\":\"white\",\"showbackground\":true,\"ticks\":\"\",\"zerolinecolor\":\"white\",\"gridwidth\":2},\"zaxis\":{\"backgroundcolor\":\"#E5ECF6\",\"gridcolor\":\"white\",\"linecolor\":\"white\",\"showbackground\":true,\"ticks\":\"\",\"zerolinecolor\":\"white\",\"gridwidth\":2}},\"shapedefaults\":{\"line\":{\"color\":\"#2a3f5f\"}},\"annotationdefaults\":{\"arrowcolor\":\"#2a3f5f\",\"arrowhead\":0,\"arrowwidth\":1},\"geo\":{\"bgcolor\":\"white\",\"landcolor\":\"#E5ECF6\",\"subunitcolor\":\"white\",\"showland\":true,\"showlakes\":true,\"lakecolor\":\"white\"},\"title\":{\"x\":0.05},\"mapbox\":{\"style\":\"light\"}}},\"yaxis2\":{\"title\":{\"text\":\"Transaction Count\"},\"overlaying\":\"y\",\"side\":\"right\",\"showgrid\":false},\"xaxis\":{\"title\":{\"text\":\"Date\"},\"tickformat\":\"%d-%m\"},\"title\":{\"text\":\"Interactive Daily Transaction Statistics with Standard Deviation and Transaction Count\"},\"yaxis\":{\"title\":{\"text\":\"Amount\"}},\"hovermode\":\"x unified\",\"showlegend\":true},                        {\"responsive\": true}                    ).then(function(){\n",
              "                            \n",
              "var gd = document.getElementById('22e73497-c070-477d-bf7a-548055b8aa1d');\n",
              "var x = new MutationObserver(function (mutations, observer) {{\n",
              "        var display = window.getComputedStyle(gd).display;\n",
              "        if (!display || display === 'none') {{\n",
              "            console.log([gd, 'removed!']);\n",
              "            Plotly.purge(gd);\n",
              "            observer.disconnect();\n",
              "        }}\n",
              "}});\n",
              "\n",
              "// Listen for the removal of the full notebook cells\n",
              "var notebookContainer = gd.closest('#notebook-container');\n",
              "if (notebookContainer) {{\n",
              "    x.observe(notebookContainer, {childList: true});\n",
              "}}\n",
              "\n",
              "// Listen for the clearing of the current output cell\n",
              "var outputEl = gd.closest('.output');\n",
              "if (outputEl) {{\n",
              "    x.observe(outputEl, {childList: true});\n",
              "}}\n",
              "\n",
              "                        })                };                            </script>        </div>\n",
              "</body>\n",
              "</html>"
            ]
          },
          "metadata": {}
        }
      ],
      "source": [
        "import pandas as pd\n",
        "import plotly.graph_objects as go\n",
        "\n",
        "# Danh sách các tệp từ lượt tải đầu tiên và thứ hai\n",
        "files_first_batch = [\n",
        "    '01-09.csv', '02-09.csv', '03-09.csv', '04-09.csv', '05-09.csv',\n",
        "    '06-09.csv', '07-09.csv', '08-09.csv', '09-09.csv', '10-09.csv'\n",
        "]\n",
        "\n",
        "files_second_batch = [\n",
        "    '11-09.csv', '12-09.csv', '14-09.csv', '15-09.csv', '16-09.csv',\n",
        "    '17-09.csv', '18-09.csv', '19-09.csv', '13-09.csv'\n",
        "]\n",
        "\n",
        "# Đọc và kết hợp tất cả các tệp dữ liệu\n",
        "data_first_batch = pd.concat([pd.read_csv(file) for file in files_first_batch])\n",
        "data_second_batch = pd.concat([pd.read_csv(file) for file in files_second_batch])\n",
        "full_data = pd.concat([data_first_batch, data_second_batch])\n",
        "\n",
        "# Chuyển đổi cột 'money' sang kiểu số và trích xuất phần ngày từ cột 'date'\n",
        "full_data['money'] = pd.to_numeric(full_data['money'], errors='coerce')\n",
        "full_data['date'] = full_data['date'].str.split().str[0]\n",
        "full_data['date'] = pd.to_datetime(full_data['date'], format='%d/%m')\n",
        "\n",
        "# Nhóm dữ liệu theo ngày và tính toán các giá trị trung bình, trung vị, độ lệch chuẩn cho 'money'\n",
        "statistics_full = full_data.groupby('date').agg(\n",
        "    Mean=('money', 'mean'),\n",
        "    Median=('money', 'median'),\n",
        "    Standard_Deviation=('money', 'std'),\n",
        "    Transaction_Count=('money', 'count')  # Đếm tổng số giao dịch\n",
        ").reset_index()\n",
        "\n",
        "# Tạo biểu đồ tương tác bằng plotly\n",
        "fig = go.Figure()\n",
        "\n",
        "# Vẽ đường Mean\n",
        "fig.add_trace(go.Scatter(\n",
        "    x=statistics_full['date'],\n",
        "    y=statistics_full['Mean'],\n",
        "    mode='lines+markers',\n",
        "    name='Mean',\n",
        "    hovertemplate='Date: %{x}<br>Mean: %{y}<br>Std Dev: %{customdata}',\n",
        "    customdata=statistics_full['Standard_Deviation']\n",
        "))\n",
        "\n",
        "# Vẽ đường Median\n",
        "fig.add_trace(go.Scatter(\n",
        "    x=statistics_full['date'],\n",
        "    y=statistics_full['Median'],\n",
        "    mode='lines+markers',\n",
        "    name='Median',\n",
        "    hovertemplate='Date: %{x}<br>Median: %{y}<br>Std Dev: %{customdata}',\n",
        "    customdata=statistics_full['Standard_Deviation']\n",
        "))\n",
        "\n",
        "# Vẽ đường Transaction Count\n",
        "fig.add_trace(go.Scatter(\n",
        "    x=statistics_full['date'],\n",
        "    y=statistics_full['Transaction_Count'],\n",
        "    mode='lines+markers',\n",
        "    name='Transaction Count',\n",
        "    yaxis='y2',  # Sử dụng trục y thứ hai\n",
        "    hovertemplate='Date: %{x}<br>Transactions: %{y}'\n",
        "))\n",
        "\n",
        "# Thêm vùng độ lệch chuẩn\n",
        "fig.add_trace(go.Scatter(\n",
        "    x=statistics_full['date'].tolist() + statistics_full['date'][::-1].tolist(),\n",
        "    y=(statistics_full['Mean'] + statistics_full['Standard_Deviation']).tolist() +\n",
        "      (statistics_full['Mean'] - statistics_full['Standard_Deviation'])[::-1].tolist(),\n",
        "    fill='toself',\n",
        "    fillcolor='rgba(128, 128, 128, 0.2)',\n",
        "    line=dict(color='rgba(255,255,255,0)'),\n",
        "    hoverinfo='skip',\n",
        "    showlegend=False\n",
        "))\n",
        "\n",
        "# Cấu hình biểu đồ với trục y thứ hai\n",
        "fig.update_layout(\n",
        "    title='Interactive Daily Transaction Statistics with Standard Deviation and Transaction Count',\n",
        "    xaxis_title='Date',\n",
        "    yaxis_title='Amount',\n",
        "    yaxis2=dict(\n",
        "        title='Transaction Count',\n",
        "        overlaying='y',\n",
        "        side='right',\n",
        "        showgrid=False\n",
        "    ),\n",
        "    xaxis=dict(tickformat='%d-%m'),\n",
        "    hovermode='x unified',\n",
        "    showlegend=True\n",
        ")\n",
        "\n",
        "# Hiển thị biểu đồ\n",
        "fig.show()\n"
      ]
    },
    {
      "cell_type": "markdown",
      "source": [
        "Lý do lượng quyên góp tăng đột biến từ ngày 10/9 là do:\n",
        "- Ngày 9/9, Ủy ban Mặt trận Tổ quốc Việt Nam thành phố Hà Nội ban hành Quyết định số 22/QĐ-MTTQ-BTT về việc hỗ trợ nhân dân các tỉnh, thành phố khắc phục hậu quả do cơn bão số 3.\n",
        "- Chiều ngày 10/9, tại Hà Nội, Đoàn Chủ tịch Ủy ban Trung ương Mặt trận Tổ quốc Việt Nam tổ chức lễ phát động kêu gọi các doanh nghiệp, cơ quan, tổ chức, tập thể, cá nhân và người Việt Nam ở nước ngoài chung tay ủng hộ đồng bào bị ảnh hưởng bởi cơn bão số 3. Hoạt động này khuyến khích mọi người \"người có của góp của, người có công góp công, có ít góp ít, có nhiều góp nhiều\" để giúp nhân dân vượt qua khó khăn và khắc phục thiệt hại do bão lũ gây ra.\n"
      ],
      "metadata": {
        "id": "Mku8JllorYth"
      }
    },
    {
      "cell_type": "markdown",
      "source": [
        "Ngày 18/09 - Mean cao, Std cao, nhưng số lượng giao dịch thấp:\n",
        "\n",
        "Nhận xét cập nhật: Trước đây, chúng ta đã nhận xét rằng ngày 18/09 có giá trị trung bình (Mean) và độ lệch chuẩn (Std) cao, phản ánh sự xuất hiện của các khoản quyên góp rất lớn, thường là từ doanh nghiệp hoặc các tổ chức lớn. Điều này dẫn đến sự đa dạng giữa các khoản tiền nhỏ và lớn, và cho thấy rằng có những đóng góp đáng kể từ các cá nhân hoặc tổ chức lớn.\n",
        "Quan sát mới: Khi xem xét thêm số lượng giao dịch (tổng số người chuyển tiền) trong ngày này, chúng ta thấy rằng số lượng giao dịch khá thấp so với các ngày khác. Điều này cho thấy rằng giá trị cao trong ngày này đến từ một số ít giao dịch lớn, thay vì từ nhiều giao dịch nhỏ. Sự kiện này rất có thể là do các khoản đóng góp quy mô lớn từ một vài doanh nghiệp, thay vì sự đóng góp lan tỏa từ nhiều cá nhân. Ví dụ, như đã đề cập trước đây, Manulife Việt Nam có thể đã thực hiện một khoản quyên góp lớn vào ngày này, tạo ra giá trị trung bình cao dù số lượng giao dịch không nhiều.\n",
        "Kết luận: Số lượng giao dịch thấp nhưng Mean và Std cao cho thấy sự tập trung của một số ít giao dịch lớn, điều này ngụ ý rằng các khoản quyên góp trong ngày 18/09 chủ yếu đến từ các tổ chức lớn hoặc các cá nhân có khả năng tài chính mạnh. Đây có thể là kết quả của một chiến dịch kêu gọi quyên góp từ các doanh nghiệp hoặc sự kiện đặc biệt được tổ chức để khuyến khích đóng góp lớn vào ngày này.\n",
        "So sánh với các ngày khác - Mean cao, số lượng giao dịch cao:\n",
        "\n",
        "Ngày 10/09: Ngày này trước đây được nhận xét là có Mean cao và Std thấp, cho thấy các khoản đóng góp đều và lớn. Khi thêm đường số lượng giao dịch, có thể thấy số lượng giao dịch cũng cao, nghĩa là có nhiều người đóng góp với số tiền tương tự. Điều này thường xảy ra khi có một chiến dịch kêu gọi quyên góp đồng đều từ cộng đồng, hoặc khi các công ty khuyến khích nhân viên quyên góp số tiền cố định.\n",
        "Nhận xét: Việc số lượng giao dịch cao và giá trị đóng góp đều đặn cho thấy đây là kết quả của một chiến dịch quy mô, nơi các cá nhân được khuyến khích đóng góp số tiền tương tự nhau, tạo ra sự đồng nhất trong dữ liệu.\n",
        "Ngày với Mean thấp, Std thấp, và số lượng giao dịch cao:\n",
        "\n",
        "Ngày 01/09: Các chỉ số Mean và Std đều thấp, nhưng số lượng giao dịch cao. Điều này cho thấy nhiều khoản quyên góp nhỏ lẻ từ nhiều cá nhân, mà không có sự xuất hiện của các khoản quyên góp lớn. Đây thường là giai đoạn bắt đầu của chiến dịch, nơi các khoản quyên góp đến từ các cá nhân nhỏ, trước khi các tổ chức hoặc doanh nghiệp lớn bắt đầu tham gia.\n",
        "Kết luận cuối cùng:\n",
        "Biểu đồ mới giúp xác định rõ hơn hành vi và tính chất của các khoản quyên góp:\n",
        "\n",
        "Ngày 18/09: Giá trị trung bình và độ lệch chuẩn cao nhưng số lượng giao dịch thấp, cho thấy các giao dịch lớn và ít giao dịch. Đây là minh chứng cho sự tham gia của các doanh nghiệp hoặc cá nhân đóng góp lớn, thay vì sự lan tỏa rộng từ cộng đồng.\n",
        "Ngày 10/09: Mean cao và số lượng giao dịch cao cho thấy một chiến dịch quyên góp đồng đều từ nhiều người tham gia.\n",
        "Ngày 01/09: Số lượng giao dịch cao nhưng Mean thấp, phản ánh nhiều khoản quyên góp nhỏ, đánh dấu giai đoạn khởi đầu của chiến dịch."
      ],
      "metadata": {
        "id": "XzuJ960xLv8Y"
      }
    },
    {
      "cell_type": "code",
      "source": [
        "import pandas as pd\n",
        "import plotly.graph_objects as go\n",
        "\n",
        "# Load the data from the relevant files\n",
        "files_to_check = [\n",
        "    '01-09.csv', '02-09.csv', '03-09.csv', '04-09.csv', '05-09.csv',\n",
        "    '06-09.csv', '07-09.csv', '08-09.csv', '09-09.csv', '10-09.csv',\n",
        "    '11-09.csv', '12-09.csv', '13-09.csv', '14-09.csv', '15-09.csv',\n",
        "    '16-09.csv', '17-09.csv', '18-09.csv', '19-09.csv'\n",
        "]\n",
        "\n",
        "# Combine all data to ensure we have correct data_with_time\n",
        "data_with_time = pd.DataFrame()\n",
        "for file in files_to_check:\n",
        "    df = pd.read_csv(file)\n",
        "    df_with_time = df[df['date'].str.contains(':') | df['desc'].str.contains('\\d{2}:\\d{2}:\\d{2}', na=False)]\n",
        "    data_with_time = pd.concat([data_with_time, df_with_time])\n",
        "\n",
        "# Correct the datetime conversion by explicitly setting the format to include time\n",
        "data_with_time['datetime'] = pd.to_datetime(data_with_time['date'], format='%d/%m %H:%M:%S', errors='coerce')\n",
        "data_with_time['hour'] = data_with_time['datetime'].dt.hour\n",
        "\n",
        "# Separate data for BIDV and VietinBank\n",
        "data_bidv = data_with_time[data_with_time['bank'].str.contains(\"BIDV\", na=False)]\n",
        "data_viettin = data_with_time[data_with_time['bank'].str.contains(\"Vietin\", na=False)]\n",
        "\n",
        "# Group by hour and count the number of transactions for each bank\n",
        "hourly_count_bidv = data_bidv.groupby('hour')['money'].count().reset_index(name='transaction_count')\n",
        "hourly_count_viettin = data_viettin.groupby('hour')['money'].count().reset_index(name='transaction_count')\n",
        "\n",
        "# Create an interactive plot using Plotly\n",
        "fig = go.Figure()\n",
        "\n",
        "# Add BIDV data\n",
        "fig.add_trace(go.Scatter(\n",
        "    x=hourly_count_bidv['hour'],\n",
        "    y=hourly_count_bidv['transaction_count'],\n",
        "    mode='lines+markers',\n",
        "    name='BIDV',\n",
        "    hovertemplate='Hour: %{x}<br>Transactions: %{y}'\n",
        "))\n",
        "\n",
        "# Add VietinBank data\n",
        "fig.add_trace(go.Scatter(\n",
        "    x=hourly_count_viettin['hour'],\n",
        "    y=hourly_count_viettin['transaction_count'],\n",
        "    mode='lines+markers',\n",
        "    name='VietinBank',\n",
        "    hovertemplate='Hour: %{x}<br>Transactions: %{y}'\n",
        "))\n",
        "\n",
        "# Configure the layout\n",
        "fig.update_layout(\n",
        "    title='Total Number of Transactions by Hour (BIDV vs VietinBank)',\n",
        "    xaxis_title='Hour of the Day',\n",
        "    yaxis_title='Total Number of Transactions',\n",
        "    xaxis=dict(tickmode='linear', tick0=0, dtick=1),  # Show every hour\n",
        "    hovermode='x unified',\n",
        "    legend=dict(x=0.85, y=1.15)\n",
        ")\n",
        "\n",
        "# Show the interactive plot\n",
        "fig.show()\n"
      ],
      "metadata": {
        "colab": {
          "base_uri": "https://localhost:8080/",
          "height": 542
        },
        "id": "Jjbogc9mJiyx",
        "outputId": "9cc34d69-276e-4d42-95e0-a89efadfa325"
      },
      "execution_count": null,
      "outputs": [
        {
          "output_type": "display_data",
          "data": {
            "text/html": [
              "<html>\n",
              "<head><meta charset=\"utf-8\" /></head>\n",
              "<body>\n",
              "    <div>            <script src=\"https://cdnjs.cloudflare.com/ajax/libs/mathjax/2.7.5/MathJax.js?config=TeX-AMS-MML_SVG\"></script><script type=\"text/javascript\">if (window.MathJax && window.MathJax.Hub && window.MathJax.Hub.Config) {window.MathJax.Hub.Config({SVG: {font: \"STIX-Web\"}});}</script>                <script type=\"text/javascript\">window.PlotlyConfig = {MathJaxConfig: 'local'};</script>\n",
              "        <script charset=\"utf-8\" src=\"https://cdn.plot.ly/plotly-2.35.2.min.js\"></script>                <div id=\"f03eb7f9-42e7-4a9c-9667-d5aba8cab743\" class=\"plotly-graph-div\" style=\"height:525px; width:100%;\"></div>            <script type=\"text/javascript\">                                    window.PLOTLYENV=window.PLOTLYENV || {};                                    if (document.getElementById(\"f03eb7f9-42e7-4a9c-9667-d5aba8cab743\")) {                    Plotly.newPlot(                        \"f03eb7f9-42e7-4a9c-9667-d5aba8cab743\",                        [{\"hovertemplate\":\"Hour: %{x}\\u003cbr\\u003eTransactions: %{y}\",\"mode\":\"lines+markers\",\"name\":\"BIDV\",\"x\":[0.0,1.0,2.0,3.0,4.0,5.0,6.0,7.0,8.0,9.0,10.0,11.0,12.0,13.0,14.0,15.0,16.0,17.0,18.0,19.0,20.0,21.0,22.0,23.0],\"y\":[7,358,37,21,21,30,74,121,265,248,257,217,199,178,164,182,175,152,120,122,160,195,255,94],\"type\":\"scatter\"},{\"hovertemplate\":\"Hour: %{x}\\u003cbr\\u003eTransactions: %{y}\",\"mode\":\"lines+markers\",\"name\":\"VietinBank\",\"x\":[0.0,1.0,2.0,3.0,4.0,5.0,6.0,7.0,8.0,9.0,10.0,11.0,12.0,13.0,14.0,15.0,16.0,17.0,18.0,19.0,20.0,21.0,22.0,23.0],\"y\":[135,2155,225,125,169,377,852,1796,2867,3027,2909,3076,2522,2009,2969,3248,2627,2590,2978,3261,3756,2743,1716,273],\"type\":\"scatter\"}],                        {\"template\":{\"data\":{\"histogram2dcontour\":[{\"type\":\"histogram2dcontour\",\"colorbar\":{\"outlinewidth\":0,\"ticks\":\"\"},\"colorscale\":[[0.0,\"#0d0887\"],[0.1111111111111111,\"#46039f\"],[0.2222222222222222,\"#7201a8\"],[0.3333333333333333,\"#9c179e\"],[0.4444444444444444,\"#bd3786\"],[0.5555555555555556,\"#d8576b\"],[0.6666666666666666,\"#ed7953\"],[0.7777777777777778,\"#fb9f3a\"],[0.8888888888888888,\"#fdca26\"],[1.0,\"#f0f921\"]]}],\"choropleth\":[{\"type\":\"choropleth\",\"colorbar\":{\"outlinewidth\":0,\"ticks\":\"\"}}],\"histogram2d\":[{\"type\":\"histogram2d\",\"colorbar\":{\"outlinewidth\":0,\"ticks\":\"\"},\"colorscale\":[[0.0,\"#0d0887\"],[0.1111111111111111,\"#46039f\"],[0.2222222222222222,\"#7201a8\"],[0.3333333333333333,\"#9c179e\"],[0.4444444444444444,\"#bd3786\"],[0.5555555555555556,\"#d8576b\"],[0.6666666666666666,\"#ed7953\"],[0.7777777777777778,\"#fb9f3a\"],[0.8888888888888888,\"#fdca26\"],[1.0,\"#f0f921\"]]}],\"heatmap\":[{\"type\":\"heatmap\",\"colorbar\":{\"outlinewidth\":0,\"ticks\":\"\"},\"colorscale\":[[0.0,\"#0d0887\"],[0.1111111111111111,\"#46039f\"],[0.2222222222222222,\"#7201a8\"],[0.3333333333333333,\"#9c179e\"],[0.4444444444444444,\"#bd3786\"],[0.5555555555555556,\"#d8576b\"],[0.6666666666666666,\"#ed7953\"],[0.7777777777777778,\"#fb9f3a\"],[0.8888888888888888,\"#fdca26\"],[1.0,\"#f0f921\"]]}],\"heatmapgl\":[{\"type\":\"heatmapgl\",\"colorbar\":{\"outlinewidth\":0,\"ticks\":\"\"},\"colorscale\":[[0.0,\"#0d0887\"],[0.1111111111111111,\"#46039f\"],[0.2222222222222222,\"#7201a8\"],[0.3333333333333333,\"#9c179e\"],[0.4444444444444444,\"#bd3786\"],[0.5555555555555556,\"#d8576b\"],[0.6666666666666666,\"#ed7953\"],[0.7777777777777778,\"#fb9f3a\"],[0.8888888888888888,\"#fdca26\"],[1.0,\"#f0f921\"]]}],\"contourcarpet\":[{\"type\":\"contourcarpet\",\"colorbar\":{\"outlinewidth\":0,\"ticks\":\"\"}}],\"contour\":[{\"type\":\"contour\",\"colorbar\":{\"outlinewidth\":0,\"ticks\":\"\"},\"colorscale\":[[0.0,\"#0d0887\"],[0.1111111111111111,\"#46039f\"],[0.2222222222222222,\"#7201a8\"],[0.3333333333333333,\"#9c179e\"],[0.4444444444444444,\"#bd3786\"],[0.5555555555555556,\"#d8576b\"],[0.6666666666666666,\"#ed7953\"],[0.7777777777777778,\"#fb9f3a\"],[0.8888888888888888,\"#fdca26\"],[1.0,\"#f0f921\"]]}],\"surface\":[{\"type\":\"surface\",\"colorbar\":{\"outlinewidth\":0,\"ticks\":\"\"},\"colorscale\":[[0.0,\"#0d0887\"],[0.1111111111111111,\"#46039f\"],[0.2222222222222222,\"#7201a8\"],[0.3333333333333333,\"#9c179e\"],[0.4444444444444444,\"#bd3786\"],[0.5555555555555556,\"#d8576b\"],[0.6666666666666666,\"#ed7953\"],[0.7777777777777778,\"#fb9f3a\"],[0.8888888888888888,\"#fdca26\"],[1.0,\"#f0f921\"]]}],\"mesh3d\":[{\"type\":\"mesh3d\",\"colorbar\":{\"outlinewidth\":0,\"ticks\":\"\"}}],\"scatter\":[{\"fillpattern\":{\"fillmode\":\"overlay\",\"size\":10,\"solidity\":0.2},\"type\":\"scatter\"}],\"parcoords\":[{\"type\":\"parcoords\",\"line\":{\"colorbar\":{\"outlinewidth\":0,\"ticks\":\"\"}}}],\"scatterpolargl\":[{\"type\":\"scatterpolargl\",\"marker\":{\"colorbar\":{\"outlinewidth\":0,\"ticks\":\"\"}}}],\"bar\":[{\"error_x\":{\"color\":\"#2a3f5f\"},\"error_y\":{\"color\":\"#2a3f5f\"},\"marker\":{\"line\":{\"color\":\"#E5ECF6\",\"width\":0.5},\"pattern\":{\"fillmode\":\"overlay\",\"size\":10,\"solidity\":0.2}},\"type\":\"bar\"}],\"scattergeo\":[{\"type\":\"scattergeo\",\"marker\":{\"colorbar\":{\"outlinewidth\":0,\"ticks\":\"\"}}}],\"scatterpolar\":[{\"type\":\"scatterpolar\",\"marker\":{\"colorbar\":{\"outlinewidth\":0,\"ticks\":\"\"}}}],\"histogram\":[{\"marker\":{\"pattern\":{\"fillmode\":\"overlay\",\"size\":10,\"solidity\":0.2}},\"type\":\"histogram\"}],\"scattergl\":[{\"type\":\"scattergl\",\"marker\":{\"colorbar\":{\"outlinewidth\":0,\"ticks\":\"\"}}}],\"scatter3d\":[{\"type\":\"scatter3d\",\"line\":{\"colorbar\":{\"outlinewidth\":0,\"ticks\":\"\"}},\"marker\":{\"colorbar\":{\"outlinewidth\":0,\"ticks\":\"\"}}}],\"scattermapbox\":[{\"type\":\"scattermapbox\",\"marker\":{\"colorbar\":{\"outlinewidth\":0,\"ticks\":\"\"}}}],\"scatterternary\":[{\"type\":\"scatterternary\",\"marker\":{\"colorbar\":{\"outlinewidth\":0,\"ticks\":\"\"}}}],\"scattercarpet\":[{\"type\":\"scattercarpet\",\"marker\":{\"colorbar\":{\"outlinewidth\":0,\"ticks\":\"\"}}}],\"carpet\":[{\"aaxis\":{\"endlinecolor\":\"#2a3f5f\",\"gridcolor\":\"white\",\"linecolor\":\"white\",\"minorgridcolor\":\"white\",\"startlinecolor\":\"#2a3f5f\"},\"baxis\":{\"endlinecolor\":\"#2a3f5f\",\"gridcolor\":\"white\",\"linecolor\":\"white\",\"minorgridcolor\":\"white\",\"startlinecolor\":\"#2a3f5f\"},\"type\":\"carpet\"}],\"table\":[{\"cells\":{\"fill\":{\"color\":\"#EBF0F8\"},\"line\":{\"color\":\"white\"}},\"header\":{\"fill\":{\"color\":\"#C8D4E3\"},\"line\":{\"color\":\"white\"}},\"type\":\"table\"}],\"barpolar\":[{\"marker\":{\"line\":{\"color\":\"#E5ECF6\",\"width\":0.5},\"pattern\":{\"fillmode\":\"overlay\",\"size\":10,\"solidity\":0.2}},\"type\":\"barpolar\"}],\"pie\":[{\"automargin\":true,\"type\":\"pie\"}]},\"layout\":{\"autotypenumbers\":\"strict\",\"colorway\":[\"#636efa\",\"#EF553B\",\"#00cc96\",\"#ab63fa\",\"#FFA15A\",\"#19d3f3\",\"#FF6692\",\"#B6E880\",\"#FF97FF\",\"#FECB52\"],\"font\":{\"color\":\"#2a3f5f\"},\"hovermode\":\"closest\",\"hoverlabel\":{\"align\":\"left\"},\"paper_bgcolor\":\"white\",\"plot_bgcolor\":\"#E5ECF6\",\"polar\":{\"bgcolor\":\"#E5ECF6\",\"angularaxis\":{\"gridcolor\":\"white\",\"linecolor\":\"white\",\"ticks\":\"\"},\"radialaxis\":{\"gridcolor\":\"white\",\"linecolor\":\"white\",\"ticks\":\"\"}},\"ternary\":{\"bgcolor\":\"#E5ECF6\",\"aaxis\":{\"gridcolor\":\"white\",\"linecolor\":\"white\",\"ticks\":\"\"},\"baxis\":{\"gridcolor\":\"white\",\"linecolor\":\"white\",\"ticks\":\"\"},\"caxis\":{\"gridcolor\":\"white\",\"linecolor\":\"white\",\"ticks\":\"\"}},\"coloraxis\":{\"colorbar\":{\"outlinewidth\":0,\"ticks\":\"\"}},\"colorscale\":{\"sequential\":[[0.0,\"#0d0887\"],[0.1111111111111111,\"#46039f\"],[0.2222222222222222,\"#7201a8\"],[0.3333333333333333,\"#9c179e\"],[0.4444444444444444,\"#bd3786\"],[0.5555555555555556,\"#d8576b\"],[0.6666666666666666,\"#ed7953\"],[0.7777777777777778,\"#fb9f3a\"],[0.8888888888888888,\"#fdca26\"],[1.0,\"#f0f921\"]],\"sequentialminus\":[[0.0,\"#0d0887\"],[0.1111111111111111,\"#46039f\"],[0.2222222222222222,\"#7201a8\"],[0.3333333333333333,\"#9c179e\"],[0.4444444444444444,\"#bd3786\"],[0.5555555555555556,\"#d8576b\"],[0.6666666666666666,\"#ed7953\"],[0.7777777777777778,\"#fb9f3a\"],[0.8888888888888888,\"#fdca26\"],[1.0,\"#f0f921\"]],\"diverging\":[[0,\"#8e0152\"],[0.1,\"#c51b7d\"],[0.2,\"#de77ae\"],[0.3,\"#f1b6da\"],[0.4,\"#fde0ef\"],[0.5,\"#f7f7f7\"],[0.6,\"#e6f5d0\"],[0.7,\"#b8e186\"],[0.8,\"#7fbc41\"],[0.9,\"#4d9221\"],[1,\"#276419\"]]},\"xaxis\":{\"gridcolor\":\"white\",\"linecolor\":\"white\",\"ticks\":\"\",\"title\":{\"standoff\":15},\"zerolinecolor\":\"white\",\"automargin\":true,\"zerolinewidth\":2},\"yaxis\":{\"gridcolor\":\"white\",\"linecolor\":\"white\",\"ticks\":\"\",\"title\":{\"standoff\":15},\"zerolinecolor\":\"white\",\"automargin\":true,\"zerolinewidth\":2},\"scene\":{\"xaxis\":{\"backgroundcolor\":\"#E5ECF6\",\"gridcolor\":\"white\",\"linecolor\":\"white\",\"showbackground\":true,\"ticks\":\"\",\"zerolinecolor\":\"white\",\"gridwidth\":2},\"yaxis\":{\"backgroundcolor\":\"#E5ECF6\",\"gridcolor\":\"white\",\"linecolor\":\"white\",\"showbackground\":true,\"ticks\":\"\",\"zerolinecolor\":\"white\",\"gridwidth\":2},\"zaxis\":{\"backgroundcolor\":\"#E5ECF6\",\"gridcolor\":\"white\",\"linecolor\":\"white\",\"showbackground\":true,\"ticks\":\"\",\"zerolinecolor\":\"white\",\"gridwidth\":2}},\"shapedefaults\":{\"line\":{\"color\":\"#2a3f5f\"}},\"annotationdefaults\":{\"arrowcolor\":\"#2a3f5f\",\"arrowhead\":0,\"arrowwidth\":1},\"geo\":{\"bgcolor\":\"white\",\"landcolor\":\"#E5ECF6\",\"subunitcolor\":\"white\",\"showland\":true,\"showlakes\":true,\"lakecolor\":\"white\"},\"title\":{\"x\":0.05},\"mapbox\":{\"style\":\"light\"}}},\"xaxis\":{\"title\":{\"text\":\"Hour of the Day\"},\"tickmode\":\"linear\",\"tick0\":0,\"dtick\":1},\"legend\":{\"x\":0.85,\"y\":1.15},\"title\":{\"text\":\"Total Number of Transactions by Hour (BIDV vs VietinBank)\"},\"yaxis\":{\"title\":{\"text\":\"Total Number of Transactions\"}},\"hovermode\":\"x unified\"},                        {\"responsive\": true}                    ).then(function(){\n",
              "                            \n",
              "var gd = document.getElementById('f03eb7f9-42e7-4a9c-9667-d5aba8cab743');\n",
              "var x = new MutationObserver(function (mutations, observer) {{\n",
              "        var display = window.getComputedStyle(gd).display;\n",
              "        if (!display || display === 'none') {{\n",
              "            console.log([gd, 'removed!']);\n",
              "            Plotly.purge(gd);\n",
              "            observer.disconnect();\n",
              "        }}\n",
              "}});\n",
              "\n",
              "// Listen for the removal of the full notebook cells\n",
              "var notebookContainer = gd.closest('#notebook-container');\n",
              "if (notebookContainer) {{\n",
              "    x.observe(notebookContainer, {childList: true});\n",
              "}}\n",
              "\n",
              "// Listen for the clearing of the current output cell\n",
              "var outputEl = gd.closest('.output');\n",
              "if (outputEl) {{\n",
              "    x.observe(outputEl, {childList: true});\n",
              "}}\n",
              "\n",
              "                        })                };                            </script>        </div>\n",
              "</body>\n",
              "</html>"
            ]
          },
          "metadata": {}
        }
      ]
    },
    {
      "cell_type": "markdown",
      "source": [
        "1. Khác biệt về đỉnh giao dịch:\n",
        "VietinBank: Có vẻ như đạt đỉnh giao dịch sớm hơn so với BIDV, thường rơi vào khoảng 15-16 giờ. Điều này có thể cho thấy khách hàng của VietinBank có xu hướng thực hiện các giao dịch quan trọng hoặc có quy mô lớn hơn vào buổi chiều.\n",
        "BIDV: Đỉnh giao dịch thường xuất hiện muộn hơn một chút, có thể vào khoảng 18-19 giờ. Sự khác biệt này có thể do nhiều yếu tố, bao gồm cả đặc điểm của khách hàng, sản phẩm dịch vụ mà ngân hàng cung cấp và chiến lược kinh doanh.\n",
        "2. Biên độ dao động:\n",
        "VietinBank: Có vẻ như có biên độ dao động lớn hơn, nghĩa là số lượng giao dịch biến động mạnh hơn trong ngày. Điều này có thể cho thấy khách hàng của VietinBank có thói quen giao dịch tập trung vào một số khung giờ nhất định.\n",
        "BIDV: Biên độ dao động tương đối ổn định hơn, cho thấy lượng giao dịch phân bố đều hơn trong ngày.\n",
        "3. Xu hướng chung:\n",
        "Cả hai ngân hàng: Đều có chung xu hướng là số lượng giao dịch tăng cao vào giờ làm việc (sáng và chiều) và giảm vào ban đêm. Tuy nhiên, tốc độ tăng và giảm có thể khác nhau.\n",
        "Các yếu tố có thể giải thích sự khác biệt:\n",
        "Đối tượng khách hàng:\n",
        "Khách hàng doanh nghiệp: Nếu VietinBank tập trung vào khách hàng doanh nghiệp nhiều hơn, có thể giải thích vì sao đỉnh giao dịch của họ thường xuất hiện vào buổi chiều khi các doanh nghiệp kết thúc công việc và thực hiện các giao dịch cuối ngày.\n",
        "Khách hàng cá nhân: Nếu BIDV có nhiều khách hàng cá nhân, đặc biệt là sinh viên, học sinh, thì đỉnh giao dịch có thể xuất hiện muộn hơn do họ có lịch trình sinh hoạt khác.\n",
        "Sản phẩm dịch vụ:\n",
        "Các sản phẩm ưu đãi: Nếu một ngân hàng có các sản phẩm ưu đãi hoặc chương trình khuyến mãi tập trung vào một khung giờ nhất định, sẽ thu hút được nhiều khách hàng hơn trong khoảng thời gian đó.\n",
        "Dịch vụ khách hàng: Chất lượng dịch vụ khách hàng, tốc độ xử lý giao dịch cũng ảnh hưởng đến quyết định lựa chọn ngân hàng của khách hàng.\n",
        "Chiến lược kinh doanh:\n",
        "Mạng lưới chi nhánh: Vị trí và số lượng chi nhánh có thể ảnh hưởng đến khả năng tiếp cận của khách hàng và do đó, ảnh hưởng đến số lượng giao dịch.\n",
        "Chiến dịch marketing: Các chiến dịch marketing tập trung vào các khung giờ nhất định có thể làm tăng lượng giao dịch trong những khung giờ đó."
      ],
      "metadata": {
        "id": "NvUVMZvaY1ML"
      }
    },
    {
      "cell_type": "markdown",
      "source": [
        "1. Xu hướng chung trong biểu đồ\n",
        "Giờ sáng (6:00 - 9:00):\n",
        "\n",
        "Đây là khoảng thời gian bắt đầu tăng nhẹ về số lượng giao dịch, đặc biệt là từ 7 giờ sáng trở đi. Lý do có thể do người Việt bắt đầu các hoạt động kinh doanh, mua bán và thanh toán vào buổi sáng. Đây là thời điểm các doanh nghiệp nhỏ lẻ, cửa hàng, và người lao động bắt đầu giao dịch trước khi làm việc hoặc mở cửa hàng.\n",
        "BIDV: Số lượng giao dịch bắt đầu tăng từ khoảng 7:00 sáng.\n",
        "VietinBank: Có sự tăng vọt rõ rệt hơn trong khoảng thời gian 8:00 - 9:00 sáng, cho thấy đây có thể là ngân hàng phổ biến hơn đối với các giao dịch liên quan đến công việc kinh doanh.\n",
        "Giờ trưa (11:00 - 13:00):\n",
        "\n",
        "Số lượng giao dịch giảm nhẹ vào khung giờ này, có thể do đây là thời gian nghỉ trưa. Người Việt thường ăn trưa vào khoảng 11:30 - 13:00, do đó các hoạt động giao dịch giảm bớt trong khoảng thời gian này.\n",
        "BIDV và VietinBank: Cả hai đều có xu hướng giảm giao dịch vào giờ nghỉ trưa, cho thấy người dùng hạn chế thực hiện các giao dịch trong thời gian này.\n",
        "Giờ chiều (13:00 - 18:00):\n",
        "\n",
        "Số lượng giao dịch tăng trở lại từ khoảng 13:00 và đạt đỉnh vào khoảng 15:00 - 16:00. Điều này phản ánh thói quen làm việc và giao dịch buổi chiều của người Việt, khi mọi người hoàn thành các công việc kinh doanh, thanh toán hóa đơn, và thực hiện các giao dịch tài chính trước khi kết thúc ngày làm việc.\n",
        "VietinBank: Có sự gia tăng đáng kể về số lượng giao dịch vào buổi chiều, đặc biệt là từ 15:00 - 16:00. Điều này có thể do các giao dịch doanh nghiệp thường được hoàn thành vào buổi chiều.\n",
        "Giờ tối (19:00 - 21:00):\n",
        "\n",
        "Một số lượng giao dịch vẫn tiếp tục diễn ra trong khung giờ tối, nhưng không nhiều như buổi chiều. Đây có thể là các giao dịch cá nhân sau giờ làm, khi mọi người đi mua sắm, ăn uống, hoặc thực hiện các thanh toán trực tuyến.\n",
        "BIDV: Số lượng giao dịch có xu hướng giảm dần vào buổi tối, ổn định và kết thúc khoảng 21:00.\n",
        "VietinBank: Xu hướng tương tự, với một vài giao dịch cá nhân diễn ra trong khung giờ tối, nhưng giảm đáng kể so với buổi chiều.\n",
        "2. Lý giải xu hướng dựa vào thói quen sinh hoạt của người Việt\n",
        "Thói quen làm việc và giao dịch buổi sáng: Người Việt thường bắt đầu làm việc từ 7:30 - 8:00 sáng, do đó các giao dịch tăng lên từ sáng sớm. Các giao dịch liên quan đến công việc kinh doanh, mua bán hàng hóa, và các thanh toán tiền mặt diễn ra phổ biến vào thời điểm này.\n",
        "Giảm vào giờ nghỉ trưa: Giữa 11:30 - 13:00, mọi người thường nghỉ ngơi và ăn trưa, do đó các hoạt động tài chính cũng giảm bớt.\n",
        "Tăng vào buổi chiều: Buổi chiều là thời điểm mà các doanh nghiệp hoàn tất các giao dịch trong ngày, dẫn đến sự gia tăng các giao dịch thanh toán, chuyển tiền, và xử lý các giao dịch trực tuyến. Các giao dịch doanh nghiệp và ngân hàng đóng vai trò quan trọng trong việc thúc đẩy lượng giao dịch trong khoảng thời gian này.\n",
        "Giảm vào buổi tối: Sau giờ làm việc, các giao dịch giảm bớt, phản ánh thời gian mà mọi người thư giãn, giải trí và không tập trung nhiều vào các hoạt động tài chính.\n",
        "3. So sánh giữa BIDV và VietinBank\n",
        "VietinBank có số lượng giao dịch cao hơn BIDV trong các khung giờ cao điểm (sáng và chiều), cho thấy đây có thể là ngân hàng phổ biến hơn đối với các doanh nghiệp hoặc các giao dịch quy mô lớn.\n",
        "BIDV có xu hướng giao dịch ổn định, cho thấy đây có thể là ngân hàng mà nhiều cá nhân sử dụng cho các giao dịch thường ngày."
      ],
      "metadata": {
        "id": "yR4pV3oWakuK"
      }
    },
    {
      "cell_type": "code",
      "source": [
        "import pandas as pd\n",
        "\n",
        "# Giả sử full_data chứa toàn bộ dữ liệu đã tải lên từ các file CSV\n",
        "# full_data['desc'] chứa mô tả giao dịch\n",
        "\n",
        "# Định nghĩa các từ khóa có thể giúp nhận diện giao dịch từ tổ chức/tập thể\n",
        "keywords_organization = [\"công ty\", \"tập đoàn\", \"doanh nghiệp\", \"quỹ\", \"hội\", \"ngân hàng\", \"bảo hiểm\", \"đoàn\", \"tổ chức\"]\n",
        "\n",
        "# Hàm để phân loại giao dịch\n",
        "def classify_transaction(description):\n",
        "    if any(keyword.lower() in str(description).lower() for keyword in keywords_organization):\n",
        "        return \"Tập thể\"\n",
        "    else:\n",
        "        return \"Cá nhân\"\n",
        "\n",
        "# Áp dụng hàm phân loại vào cột 'desc'\n",
        "full_data['transaction_type'] = full_data['desc'].apply(classify_transaction)\n",
        "\n",
        "# Đếm số lượng giao dịch theo loại\n",
        "transaction_summary = full_data['transaction_type'].value_counts()\n",
        "\n",
        "# Hiển thị tổng số giao dịch từ cá nhân và tập thể\n",
        "print(transaction_summary)\n",
        "\n",
        "# Lưu lại dữ liệu đã phân loại nếu cần thiết\n",
        "full_data.to_csv(\"classified_transactions.csv\", index=False)\n",
        "\n",
        "# Phân tích sơ bộ: Tính tổng số tiền và số lượng giao dịch cho mỗi loại\n",
        "summary_by_type = full_data.groupby('transaction_type')['money'].agg(['count', 'sum']).reset_index()\n",
        "summary_by_type.columns = ['Transaction Type', 'Number of Transactions', 'Total Amount']\n",
        "\n",
        "# Hiển thị kết quả phân tích\n",
        "print(summary_by_type)\n"
      ],
      "metadata": {
        "colab": {
          "base_uri": "https://localhost:8080/"
        },
        "id": "jQsLZDpKumY3",
        "outputId": "0c1cc868-bce6-4b9b-c11e-85ea9f905048"
      },
      "execution_count": null,
      "outputs": [
        {
          "output_type": "stream",
          "name": "stdout",
          "text": [
            "transaction_type\n",
            "Cá nhân    139600\n",
            "Name: count, dtype: int64\n",
            "  Transaction Type  Number of Transactions  Total Amount\n",
            "0          Cá nhân                  139599  1.035709e+11\n"
          ]
        }
      ]
    },
    {
      "cell_type": "code",
      "source": [],
      "metadata": {
        "id": "vUE5vukovIjF"
      },
      "execution_count": null,
      "outputs": []
    }
  ]
}