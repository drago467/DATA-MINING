{
  "nbformat": 4,
  "nbformat_minor": 0,
  "metadata": {
    "colab": {
      "provenance": [],
      "authorship_tag": "ABX9TyNLpwhX+oX3dNQjhAzpNRGP",
      "include_colab_link": true
    },
    "kernelspec": {
      "name": "python3",
      "display_name": "Python 3"
    },
    "language_info": {
      "name": "python"
    }
  },
  "cells": [
    {
      "cell_type": "markdown",
      "metadata": {
        "id": "view-in-github",
        "colab_type": "text"
      },
      "source": [
        "<a href=\"https://colab.research.google.com/github/drago467/DATA-MINING/blob/main/luc_luong_ung_ho.ipynb\" target=\"_parent\"><img src=\"https://colab.research.google.com/assets/colab-badge.svg\" alt=\"Open In Colab\"/></a>"
      ]
    },
    {
      "cell_type": "code",
      "execution_count": 7,
      "metadata": {
        "id": "p-cr3-T7IFhw",
        "colab": {
          "base_uri": "https://localhost:8080/"
        },
        "outputId": "c94fef60-0d21-4e86-987e-34078e7f5d18"
      },
      "outputs": [
        {
          "output_type": "stream",
          "name": "stdout",
          "text": [
            "Collecting unidecode\n",
            "  Downloading Unidecode-1.3.8-py3-none-any.whl.metadata (13 kB)\n",
            "Downloading Unidecode-1.3.8-py3-none-any.whl (235 kB)\n",
            "\u001b[?25l   \u001b[90m━━━━━━━━━━━━━━━━━━━━━━━━━━━━━━━━━━━━━━━━\u001b[0m \u001b[32m0.0/235.5 kB\u001b[0m \u001b[31m?\u001b[0m eta \u001b[36m-:--:--\u001b[0m\r\u001b[2K   \u001b[90m━━━━━━━━━━━━━━━━━━━━━━━━━━━━━━━━━━━━━━━━\u001b[0m \u001b[32m235.5/235.5 kB\u001b[0m \u001b[31m12.1 MB/s\u001b[0m eta \u001b[36m0:00:00\u001b[0m\n",
            "\u001b[?25hInstalling collected packages: unidecode\n",
            "Successfully installed unidecode-1.3.8\n"
          ]
        }
      ],
      "source": [
        "import pandas as pd\n",
        "import matplotlib.pyplot as plt\n",
        "import pandas as pd\n",
        "!pip install unidecode\n",
        "from unidecode import unidecode\n"
      ]
    },
    {
      "cell_type": "code",
      "source": [
        "agri_df = pd.read_csv('Agri.csv')\n",
        "bidv_df = pd.read_csv('BIDV.csv')\n",
        "vcb_df = pd.read_csv('VCB.csv')\n",
        "vietin_df = pd.read_csv('Vietin.csv')\n"
      ],
      "metadata": {
        "id": "Sfl5iUArI-9d",
        "outputId": "b1312b9b-7211-4140-afe5-3919359cf12e",
        "colab": {
          "base_uri": "https://localhost:8080/"
        }
      },
      "execution_count": 8,
      "outputs": [
        {
          "output_type": "stream",
          "name": "stderr",
          "text": [
            "<ipython-input-8-81addc00a41b>:3: DtypeWarning: Columns (5) have mixed types. Specify dtype option on import or set low_memory=False.\n",
            "  vcb_df = pd.read_csv('VCB.csv')\n"
          ]
        }
      ]
    },
    {
      "cell_type": "code",
      "source": [
        "print(\"Agri DataFrame:\")\n",
        "print(agri_df.head())\n",
        "\n",
        "print(\"\\nBIDV DataFrame:\")\n",
        "print(bidv_df.head())\n",
        "\n",
        "print(\"\\nVCB DataFrame:\")\n",
        "print(vcb_df.head())\n",
        "\n",
        "print(\"\\nVietin DataFrame:\")\n",
        "print(vietin_df.head())"
      ],
      "metadata": {
        "id": "LyklMZNdJAKv",
        "outputId": "7c9a6f38-8076-45f3-8de7-2140d35d48ae",
        "colab": {
          "base_uri": "https://localhost:8080/"
        }
      },
      "execution_count": 9,
      "outputs": [
        {
          "output_type": "stream",
          "name": "stdout",
          "text": [
            "Agri DataFrame:\n",
            "    date  bank        id   money  \\\n",
            "0  09/09  Agri   1375649  500000   \n",
            "1  10/09  Agri   2882370   50000   \n",
            "2  10/09  Agri  92865150  100000   \n",
            "3  10/09  Agri   2847919  100000   \n",
            "4  10/09  Agri  92875865  500000   \n",
            "\n",
            "                                                desc  page  \n",
            "0  NGUYEN THI ANH ung ho dong bao bao lu thien tai .     1  \n",
            "1    NGUYEN THI HONG DUYEN ung ho cac tinh bi bao lu     1  \n",
            "2                         Ung ho cac tinh bi bao lut     1  \n",
            "3                           BUI THI NINH chuyen tien     1  \n",
            "4  NGUYEN MINH QUANG ung ho cac tinh bi bao lu FT...     1  \n",
            "\n",
            "BIDV DataFrame:\n",
            "             date  bank  id   money  \\\n",
            "0  01/09 10:27:58  BIDV   1  150000   \n",
            "1  02/09 07:29:20  BIDV   2    1500   \n",
            "2  03/09 06:59:55  BIDV   3    6314   \n",
            "3  03/09 07:19:50  BIDV   4    4188   \n",
            "4  03/09 12:08:28  BIDV   5   20000   \n",
            "\n",
            "                                            desc page  \n",
            "0  1261122666 Ung ho nguoi co hoan canh kho khan    _  \n",
            "1          1261122666 TRAN QUANG HUY Chuyen tien    _  \n",
            "2       1261122666 NGUYEN DANH THONG Chuyen tien    _  \n",
            "3       1261122666 NGUYEN DANH THONG Chuyen tien    _  \n",
            "4          1261122666 LE THI KIM ANH Chuyen tien    _  \n",
            "\n",
            "VCB DataFrame:\n",
            "    date bank          id  money  \\\n",
            "0  01/09  VCB  5213.45946  50000   \n",
            "1  01/09  VCB  5090.85797  20000   \n",
            "2  01/09  VCB  5241.83107  29000   \n",
            "3  01/09  VCB  5218.87149   3000   \n",
            "4  01/09  VCB  5388.96713   3000   \n",
            "\n",
            "                                                desc page  \n",
            "0                    292976.010924.013647.xin cam on    1  \n",
            "1  VCB.CTDK.31/03/2024.ADIDA PHAT. CT tu 04810007...    1  \n",
            "2  MBVCB.6916176124.CAO VIET TUAN chuyen tien.CT ...    1  \n",
            "3        272986.010924.101858.DO DUC LOI chuyen tien    1  \n",
            "4  020097040509011046122024JDC5013867.96713 .1046...    1  \n",
            "\n",
            "Vietin DataFrame:\n",
            "             date    bank  id   money  \\\n",
            "0  10/09 12:01:29  Vietin   1  300000   \n",
            "1  10/09 12:01:46  Vietin   2  100000   \n",
            "2  10/09 13:33:47  Vietin   3  100000   \n",
            "3  10/09 13:34:31  Vietin   4  100000   \n",
            "4  10/09 13:37:09  Vietin   5  100000   \n",
            "\n",
            "                                                desc page  \n",
            "0  CT nhanh 247 den: TRAN TIEN ANH chuyen tien un...    _  \n",
            "1  CT nhanh 247 den: Phuong Quynh Le chuyen tien ...    _  \n",
            "2  TRAN TRONG SON Chuyen tien ung ho (CT1111) TRA...    _  \n",
            "3  NGUYEN THU BINH chuyen tien ung ho (CT1111) NG...    _  \n",
            "4  Chuyen tien den tu NAPAS Noi dung: NGUYEN THU ...    _  \n"
          ]
        }
      ]
    },
    {
      "cell_type": "code",
      "source": [
        "# Hàm để chuyển đổi mô tả giao dịch về không dấu và chữ thường\n",
        "def normalize_text(text):\n",
        "    # Chuyển chữ hoa thành chữ thường\n",
        "    text = text.lower()\n",
        "    # Chuyển sang dạng không dấu\n",
        "    text = unidecode(text)\n",
        "    return text\n",
        "\n",
        "# Áp dụng hàm normalize_text cho cột 'desc' trong từng DataFrame\n",
        "agri_df['desc_normalized'] = agri_df['desc'].apply(lambda x: normalize_text(x) if pd.notnull(x) else '')\n",
        "bidv_df['desc_normalized'] = bidv_df['desc'].apply(lambda x: normalize_text(x) if pd.notnull(x) else '')\n",
        "vcb_df['desc_normalized'] = vcb_df['desc'].apply(lambda x: normalize_text(x) if pd.notnull(x) else '')\n",
        "vietin_df['desc_normalized'] = vietin_df['desc'].apply(lambda x: normalize_text(x) if pd.notnull(x) else '')\n",
        "\n",
        "# Kiểm tra lại một số dữ liệu sau khi xử lý\n",
        "print(\"Agri DataFrame sau khi chuyển về chữ thường và không dấu:\")\n",
        "print(agri_df[['desc', 'desc_normalized']].head())\n",
        "\n",
        "print(\"\\nBIDV DataFrame sau khi chuyển về chữ thường và không dấu:\")\n",
        "print(bidv_df[['desc', 'desc_normalized']].head())"
      ],
      "metadata": {
        "id": "jW2IkqBlJBx0",
        "colab": {
          "base_uri": "https://localhost:8080/"
        },
        "outputId": "efca5339-b97a-4a27-f4d3-a63bd7f8aedc"
      },
      "execution_count": 10,
      "outputs": [
        {
          "output_type": "stream",
          "name": "stdout",
          "text": [
            "Agri DataFrame sau khi chuyển về chữ thường và không dấu:\n",
            "                                                desc  \\\n",
            "0  NGUYEN THI ANH ung ho dong bao bao lu thien tai .   \n",
            "1    NGUYEN THI HONG DUYEN ung ho cac tinh bi bao lu   \n",
            "2                         Ung ho cac tinh bi bao lut   \n",
            "3                           BUI THI NINH chuyen tien   \n",
            "4  NGUYEN MINH QUANG ung ho cac tinh bi bao lu FT...   \n",
            "\n",
            "                                     desc_normalized  \n",
            "0  nguyen thi anh ung ho dong bao bao lu thien tai .  \n",
            "1    nguyen thi hong duyen ung ho cac tinh bi bao lu  \n",
            "2                         ung ho cac tinh bi bao lut  \n",
            "3                           bui thi ninh chuyen tien  \n",
            "4  nguyen minh quang ung ho cac tinh bi bao lu ft...  \n",
            "\n",
            "BIDV DataFrame sau khi chuyển về chữ thường và không dấu:\n",
            "                                            desc  \\\n",
            "0  1261122666 Ung ho nguoi co hoan canh kho khan   \n",
            "1          1261122666 TRAN QUANG HUY Chuyen tien   \n",
            "2       1261122666 NGUYEN DANH THONG Chuyen tien   \n",
            "3       1261122666 NGUYEN DANH THONG Chuyen tien   \n",
            "4          1261122666 LE THI KIM ANH Chuyen tien   \n",
            "\n",
            "                                 desc_normalized  \n",
            "0  1261122666 ung ho nguoi co hoan canh kho khan  \n",
            "1          1261122666 tran quang huy chuyen tien  \n",
            "2       1261122666 nguyen danh thong chuyen tien  \n",
            "3       1261122666 nguyen danh thong chuyen tien  \n",
            "4          1261122666 le thi kim anh chuyen tien  \n"
          ]
        }
      ]
    },
    {
      "cell_type": "code",
      "source": [
        "# Bước 1: Lọc dữ liệu dựa trên từ khóa đã chuyển thành không dấu và chữ thường\n",
        "keywords = [\"lop\", \"cong ty\", \"van phong\", \"idol\", \"nhom\", \"tap the\"]\n",
        "\n",
        "# Từ khóa hiển thị tiếng Việt\n",
        "display_keywords = [\"Lớp\", \"Công ty\", \"Văn phòng\", \"Idol\", \"Nhóm\", \"Tập thể\"]\n",
        "\n",
        "# Tạo DataFrame trống để lưu kết quả\n",
        "result_df = pd.DataFrame(columns=[\"Từ khóa\", \"Số Giao dịch\", \"Tiền hỗ trợ\", \"GD nhỏ nhất\", \"GD lớn nhất\", \"SL GD nhỏ\"])\n",
        "\n",
        "for i, keyword in enumerate(keywords):\n",
        "    # Lọc dữ liệu từ các DataFrame khác nhau dựa trên từ khóa trong cột 'desc_normalized'\n",
        "    filtered_agri = agri_df[agri_df['desc_normalized'].str.contains(keyword, case=False, na=False)]\n",
        "    filtered_bidv = bidv_df[bidv_df['desc_normalized'].str.contains(keyword, case=False, na=False)]\n",
        "    filtered_vcb = vcb_df[vcb_df['desc_normalized'].str.contains(keyword, case=False, na=False)]\n",
        "    filtered_vietin = vietin_df[vietin_df['desc_normalized'].str.contains(keyword, case=False, na=False)]\n",
        "\n",
        "    # Gộp tất cả các giao dịch đã lọc lại\n",
        "    filtered_data = pd.concat([filtered_agri, filtered_bidv, filtered_vcb, filtered_vietin])\n",
        "\n",
        "    # Tính toán các thông tin cần thiết\n",
        "    num_transactions = filtered_data.shape[0]\n",
        "    total_amount = filtered_data['money'].sum()\n",
        "    min_transaction = filtered_data['money'].min()\n",
        "    max_transaction = filtered_data['money'].max()\n",
        "    small_transactions = filtered_data[filtered_data['money'] < 10000].shape[0]  # Số giao dịch nhỏ hơn 10,000 VND\n",
        "\n",
        "    # Sử dụng loc để thêm dòng dữ liệu vào DataFrame\n",
        "    result_df.loc[len(result_df)] = {\n",
        "        \"Từ khóa\": display_keywords[i],  # Sử dụng từ khóa tiếng Việt tương ứng\n",
        "        \"Số Giao dịch\": num_transactions,\n",
        "        \"Tiền hỗ trợ\": total_amount,\n",
        "        \"GD nhỏ nhất\": min_transaction,\n",
        "        \"GD lớn nhất\": max_transaction,\n",
        "        \"SL GD nhỏ\": small_transactions\n",
        "    }\n",
        "\n",
        "# Hiển thị kết quả\n",
        "print(result_df)"
      ],
      "metadata": {
        "colab": {
          "base_uri": "https://localhost:8080/"
        },
        "id": "pdnZM2ilPbHF",
        "outputId": "38baf33c-8142-48e2-f0ab-114dd19a3a9d"
      },
      "execution_count": 20,
      "outputs": [
        {
          "output_type": "stream",
          "name": "stdout",
          "text": [
            "     Từ khóa  Số Giao dịch  Tiền hỗ trợ  GD nhỏ nhất  GD lớn nhất  SL GD nhỏ\n",
            "0        Lớp          6192   3388810917         1000    100000000         71\n",
            "1    Công ty          5153  64748042278         1000  10460780225         94\n",
            "2  Văn phòng           513   1748708432         2337   1000000000          6\n",
            "3       Idol            33     52130011        20000     13456789          0\n",
            "4       Nhóm          1374   3185189056         2000    138213000         12\n",
            "5    Tập thể          3078  26039326500         1000   2680527506        130\n"
          ]
        }
      ]
    },
    {
      "cell_type": "code",
      "source": [],
      "metadata": {
        "id": "LE7URws2P9q3"
      },
      "execution_count": null,
      "outputs": []
    }
  ]
}